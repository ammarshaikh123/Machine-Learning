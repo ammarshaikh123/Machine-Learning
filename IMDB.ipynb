{
 "cells": [
  {
   "cell_type": "code",
   "execution_count": 833,
   "metadata": {},
   "outputs": [],
   "source": [
    "import pandas as pd\n",
    "import numpy as np"
   ]
  },
  {
   "cell_type": "code",
   "execution_count": 834,
   "metadata": {},
   "outputs": [],
   "source": [
    "train=pd.read_csv('train.csv',usecols=['id','budget','genres','original_language','popularity','production_companies',\n",
    "                                       'production_countries','runtime','spoken_languages','revenue','Keywords','release_date'])\n",
    "test=pd.read_csv('test.csv',usecols=['id','budget','genres','original_language','popularity','production_companies',\n",
    "                                       'production_countries','runtime','spoken_languages','Keywords','release_date'])"
   ]
  },
  {
   "cell_type": "code",
   "execution_count": 835,
   "metadata": {},
   "outputs": [
    {
     "data": {
      "text/html": [
       "<div>\n",
       "<style scoped>\n",
       "    .dataframe tbody tr th:only-of-type {\n",
       "        vertical-align: middle;\n",
       "    }\n",
       "\n",
       "    .dataframe tbody tr th {\n",
       "        vertical-align: top;\n",
       "    }\n",
       "\n",
       "    .dataframe thead th {\n",
       "        text-align: right;\n",
       "    }\n",
       "</style>\n",
       "<table border=\"1\" class=\"dataframe\">\n",
       "  <thead>\n",
       "    <tr style=\"text-align: right;\">\n",
       "      <th></th>\n",
       "      <th>id</th>\n",
       "      <th>budget</th>\n",
       "      <th>genres</th>\n",
       "      <th>original_language</th>\n",
       "      <th>popularity</th>\n",
       "      <th>production_companies</th>\n",
       "      <th>production_countries</th>\n",
       "      <th>release_date</th>\n",
       "      <th>runtime</th>\n",
       "      <th>spoken_languages</th>\n",
       "      <th>Keywords</th>\n",
       "      <th>revenue</th>\n",
       "    </tr>\n",
       "  </thead>\n",
       "  <tbody>\n",
       "    <tr>\n",
       "      <th>0</th>\n",
       "      <td>1</td>\n",
       "      <td>14000000</td>\n",
       "      <td>[{'id': 35, 'name': 'Comedy'}]</td>\n",
       "      <td>en</td>\n",
       "      <td>6.575393</td>\n",
       "      <td>[{'name': 'Paramount Pictures', 'id': 4}, {'na...</td>\n",
       "      <td>[{'iso_3166_1': 'US', 'name': 'United States o...</td>\n",
       "      <td>2/20/15</td>\n",
       "      <td>93.0</td>\n",
       "      <td>[{'iso_639_1': 'en', 'name': 'English'}]</td>\n",
       "      <td>[{'id': 4379, 'name': 'time travel'}, {'id': 9...</td>\n",
       "      <td>12314651</td>\n",
       "    </tr>\n",
       "    <tr>\n",
       "      <th>1</th>\n",
       "      <td>2</td>\n",
       "      <td>40000000</td>\n",
       "      <td>[{'id': 35, 'name': 'Comedy'}, {'id': 18, 'nam...</td>\n",
       "      <td>en</td>\n",
       "      <td>8.248895</td>\n",
       "      <td>[{'name': 'Walt Disney Pictures', 'id': 2}]</td>\n",
       "      <td>[{'iso_3166_1': 'US', 'name': 'United States o...</td>\n",
       "      <td>8/6/04</td>\n",
       "      <td>113.0</td>\n",
       "      <td>[{'iso_639_1': 'en', 'name': 'English'}]</td>\n",
       "      <td>[{'id': 2505, 'name': 'coronation'}, {'id': 42...</td>\n",
       "      <td>95149435</td>\n",
       "    </tr>\n",
       "    <tr>\n",
       "      <th>2</th>\n",
       "      <td>3</td>\n",
       "      <td>3300000</td>\n",
       "      <td>[{'id': 18, 'name': 'Drama'}]</td>\n",
       "      <td>en</td>\n",
       "      <td>64.299990</td>\n",
       "      <td>[{'name': 'Bold Films', 'id': 2266}, {'name': ...</td>\n",
       "      <td>[{'iso_3166_1': 'US', 'name': 'United States o...</td>\n",
       "      <td>10/10/14</td>\n",
       "      <td>105.0</td>\n",
       "      <td>[{'iso_639_1': 'en', 'name': 'English'}]</td>\n",
       "      <td>[{'id': 1416, 'name': 'jazz'}, {'id': 1523, 'n...</td>\n",
       "      <td>13092000</td>\n",
       "    </tr>\n",
       "    <tr>\n",
       "      <th>3</th>\n",
       "      <td>4</td>\n",
       "      <td>1200000</td>\n",
       "      <td>[{'id': 53, 'name': 'Thriller'}, {'id': 18, 'n...</td>\n",
       "      <td>hi</td>\n",
       "      <td>3.174936</td>\n",
       "      <td>NaN</td>\n",
       "      <td>[{'iso_3166_1': 'IN', 'name': 'India'}]</td>\n",
       "      <td>3/9/12</td>\n",
       "      <td>122.0</td>\n",
       "      <td>[{'iso_639_1': 'en', 'name': 'English'}, {'iso...</td>\n",
       "      <td>[{'id': 10092, 'name': 'mystery'}, {'id': 1054...</td>\n",
       "      <td>16000000</td>\n",
       "    </tr>\n",
       "    <tr>\n",
       "      <th>4</th>\n",
       "      <td>5</td>\n",
       "      <td>0</td>\n",
       "      <td>[{'id': 28, 'name': 'Action'}, {'id': 53, 'nam...</td>\n",
       "      <td>ko</td>\n",
       "      <td>1.148070</td>\n",
       "      <td>NaN</td>\n",
       "      <td>[{'iso_3166_1': 'KR', 'name': 'South Korea'}]</td>\n",
       "      <td>2/5/09</td>\n",
       "      <td>118.0</td>\n",
       "      <td>[{'iso_639_1': 'ko', 'name': '한국어/조선말'}]</td>\n",
       "      <td>NaN</td>\n",
       "      <td>3923970</td>\n",
       "    </tr>\n",
       "  </tbody>\n",
       "</table>\n",
       "</div>"
      ],
      "text/plain": [
       "   id    budget                                             genres  \\\n",
       "0   1  14000000                     [{'id': 35, 'name': 'Comedy'}]   \n",
       "1   2  40000000  [{'id': 35, 'name': 'Comedy'}, {'id': 18, 'nam...   \n",
       "2   3   3300000                      [{'id': 18, 'name': 'Drama'}]   \n",
       "3   4   1200000  [{'id': 53, 'name': 'Thriller'}, {'id': 18, 'n...   \n",
       "4   5         0  [{'id': 28, 'name': 'Action'}, {'id': 53, 'nam...   \n",
       "\n",
       "  original_language  popularity  \\\n",
       "0                en    6.575393   \n",
       "1                en    8.248895   \n",
       "2                en   64.299990   \n",
       "3                hi    3.174936   \n",
       "4                ko    1.148070   \n",
       "\n",
       "                                production_companies  \\\n",
       "0  [{'name': 'Paramount Pictures', 'id': 4}, {'na...   \n",
       "1        [{'name': 'Walt Disney Pictures', 'id': 2}]   \n",
       "2  [{'name': 'Bold Films', 'id': 2266}, {'name': ...   \n",
       "3                                                NaN   \n",
       "4                                                NaN   \n",
       "\n",
       "                                production_countries release_date  runtime  \\\n",
       "0  [{'iso_3166_1': 'US', 'name': 'United States o...      2/20/15     93.0   \n",
       "1  [{'iso_3166_1': 'US', 'name': 'United States o...       8/6/04    113.0   \n",
       "2  [{'iso_3166_1': 'US', 'name': 'United States o...     10/10/14    105.0   \n",
       "3            [{'iso_3166_1': 'IN', 'name': 'India'}]       3/9/12    122.0   \n",
       "4      [{'iso_3166_1': 'KR', 'name': 'South Korea'}]       2/5/09    118.0   \n",
       "\n",
       "                                    spoken_languages  \\\n",
       "0           [{'iso_639_1': 'en', 'name': 'English'}]   \n",
       "1           [{'iso_639_1': 'en', 'name': 'English'}]   \n",
       "2           [{'iso_639_1': 'en', 'name': 'English'}]   \n",
       "3  [{'iso_639_1': 'en', 'name': 'English'}, {'iso...   \n",
       "4           [{'iso_639_1': 'ko', 'name': '한국어/조선말'}]   \n",
       "\n",
       "                                            Keywords   revenue  \n",
       "0  [{'id': 4379, 'name': 'time travel'}, {'id': 9...  12314651  \n",
       "1  [{'id': 2505, 'name': 'coronation'}, {'id': 42...  95149435  \n",
       "2  [{'id': 1416, 'name': 'jazz'}, {'id': 1523, 'n...  13092000  \n",
       "3  [{'id': 10092, 'name': 'mystery'}, {'id': 1054...  16000000  \n",
       "4                                                NaN   3923970  "
      ]
     },
     "execution_count": 835,
     "metadata": {},
     "output_type": "execute_result"
    }
   ],
   "source": [
    "train.head()"
   ]
  },
  {
   "cell_type": "code",
   "execution_count": 836,
   "metadata": {},
   "outputs": [],
   "source": [
    "from sklearn.preprocessing import LabelEncoder, OneHotEncoder\n",
    "import warnings\n",
    "warnings.filterwarnings(\"ignore\")\n",
    "import itertools\n",
    "\n",
    "\n",
    "\n",
    "train['runtime']=pd.to_numeric(train['runtime'], errors='ignore')\n",
    "test['runtime']=pd.to_numeric(test['runtime'], errors='ignore')\n"
   ]
  },
  {
   "cell_type": "code",
   "execution_count": 837,
   "metadata": {},
   "outputs": [],
   "source": [
    "train.loc[train['id'] == 16,'revenue'] = 192864          # Skinning\n",
    "train.loc[train['id'] == 90,'budget'] = 30000000         # Sommersby          \n",
    "train.loc[train['id'] == 118,'budget'] = 60000000        # Wild Hogs\n",
    "train.loc[train['id'] == 149,'budget'] = 18000000        # Beethoven\n",
    "train.loc[train['id'] == 313,'revenue'] = 12000000       # The Cookout \n",
    "train.loc[train['id'] == 451,'revenue'] = 12000000       # Chasing Liberty\n",
    "train.loc[train['id'] == 464,'budget'] = 20000000        # Parenthood\n",
    "train.loc[train['id'] == 470,'budget'] = 13000000        # The Karate Kid, Part II\n",
    "train.loc[train['id'] == 513,'budget'] = 930000          # From Prada to Nada\n",
    "train.loc[train['id'] == 797,'budget'] = 8000000         # Welcome to Dongmakgol\n",
    "train.loc[train['id'] == 819,'budget'] = 90000000        # Alvin and the Chipmunks: The Road Chip\n",
    "train.loc[train['id'] == 850,'budget'] = 90000000        # Modern Times\n",
    "train.loc[train['id'] == 1112,'budget'] = 7500000        # An Officer and a Gentleman\n",
    "train.loc[train['id'] == 1131,'budget'] = 4300000        # Smokey and the Bandit   \n",
    "train.loc[train['id'] == 1359,'budget'] = 10000000       # Stir Crazy \n",
    "train.loc[train['id'] == 1542,'budget'] = 1              # All at Once\n",
    "train.loc[train['id'] == 1542,'budget'] = 15800000       # Crocodile Dundee II\n",
    "train.loc[train['id'] == 1571,'budget'] = 4000000        # Lady and the Tramp\n",
    "train.loc[train['id'] == 1714,'budget'] = 46000000       # The Recruit\n",
    "train.loc[train['id'] == 1721,'budget'] = 17500000       # Cocoon\n",
    "train.loc[train['id'] == 1865,'revenue'] = 25000000      # Scooby-Doo 2: Monsters Unleashed\n",
    "train.loc[train['id'] == 2268,'budget'] = 17500000       # Madea Goes to Jail budget\n",
    "train.loc[train['id'] == 2491,'revenue'] = 6800000       # Never Talk to Strangers\n",
    "train.loc[train['id'] == 2602,'budget'] = 31000000       # Mr. Holland's Opus\n",
    "train.loc[train['id'] == 2612,'budget'] = 15000000       # Field of Dreams\n",
    "train.loc[train['id'] == 2696,'budget'] = 10000000       # Nurse 3-D\n",
    "train.loc[train['id'] == 2801,'budget'] = 10000000       # Fracture"
   ]
  },
  {
   "cell_type": "code",
   "execution_count": 838,
   "metadata": {},
   "outputs": [],
   "source": [
    "test.loc[test['id'] == 3889,'budget'] = 15000000       # Colossal\n",
    "test.loc[test['id'] == 6733,'budget'] = 5000000        # The Big Sick\n",
    "test.loc[test['id'] == 3197,'budget'] = 8000000        # High-Rise\n",
    "test.loc[test['id'] == 6683,'budget'] = 50000000       # The Pink Panther 2\n",
    "test.loc[test['id'] == 5704,'budget'] = 4300000        # French Connection II\n",
    "test.loc[test['id'] == 6109,'budget'] = 281756         # Dogtooth\n",
    "test.loc[test['id'] == 7242,'budget'] = 10000000       # Addams Family Values\n",
    "test.loc[test['id'] == 7021,'budget'] = 17540562       #  Two Is a Family\n",
    "test.loc[test['id'] == 5591,'budget'] = 4000000        # The Orphanage\n",
    "test.loc[test['id'] == 4282,'budget'] = 20000000       # Big Top Pee-wee"
   ]
  },
  {
   "cell_type": "code",
   "execution_count": 839,
   "metadata": {},
   "outputs": [],
   "source": [
    "# TRAIN \n",
    "\n",
    "train.runtime[train.id == 391] = 86 #Il peor natagle de la meva vida\n",
    "train.runtime[train.id == 592] = 90 #А поутру они проснулись\n",
    "train.runtime[train.id == 925] = 95 #¿Quién mató a Bambi?\n",
    "train.runtime[train.id == 978] = 93 #La peggior settimana della mia vita\n",
    "train.runtime[train.id == 1256] = 92 #Cipolla Colt\n",
    "train.runtime[train.id == 1542] = 93 #Все и сразу\n",
    "train.runtime[train.id == 1875] = 86 #Vermist\n",
    "train.runtime[train.id == 2151] = 108 #Mechenosets\n",
    "train.runtime[train.id == 2499] = 108 #Na Igre 2. Novyy Uroven\n",
    "train.runtime[train.id == 2646] = 98 #同桌的妳\n",
    "train.runtime[train.id == 2786] = 111 #Revelation\n",
    "train.runtime[train.id == 2866] = 96 #Tutto tutto niente niente\n",
    "\n",
    "# TEST\n",
    "test.runtime[test.id == 4074] = 103 #Shikshanachya Aaicha Gho\n",
    "test.runtime[test.id == 4222] = 93 #Street Knight\n",
    "test.runtime[test.id == 4431] = 100 #Плюс один\n",
    "test.runtime[test.id == 5520] = 86 #Glukhar v kino\n",
    "test.runtime[test.id == 5845] = 83 #Frau Müller muss weg!\n",
    "test.runtime[test.id == 5849] = 140 #Shabd\n",
    "test.runtime[test.id == 6210] = 104 #Le dernier souffle\n",
    "test.runtime[test.id == 6804] = 145 #Chaahat Ek Nasha..\n",
    "test.runtime[test.id == 7321] = 87 #El truco del manco"
   ]
  },
  {
   "cell_type": "code",
   "execution_count": 840,
   "metadata": {},
   "outputs": [
    {
     "data": {
      "text/plain": [
       "en    6351\n",
       "fr     199\n",
       "hi     118\n",
       "ru     109\n",
       "es      95\n",
       "ja      90\n",
       "it      56\n",
       "ko      49\n",
       "de      49\n",
       "zh      46\n",
       "cn      41\n",
       "ta      31\n",
       "sv      20\n",
       "da      17\n",
       "pt      13\n",
       "ml      12\n",
       "nl      11\n",
       "Name: original_language, dtype: int64"
      ]
     },
     "execution_count": 840,
     "metadata": {},
     "output_type": "execute_result"
    }
   ],
   "source": [
    "all_languages = pd.concat([train.original_language, test.original_language], axis=0).value_counts()\n",
    "all_languages[all_languages > 10]"
   ]
  },
  {
   "cell_type": "code",
   "execution_count": 841,
   "metadata": {},
   "outputs": [],
   "source": [
    "# Here are the main languages\n",
    "main_languages = list(all_languages[all_languages>20].index)\n",
    "# Let's categorize them, and add a 'other' catergorie\n",
    "dict_language = dict(zip(main_languages, range(1, len(main_languages)+1)))\n",
    "dict_language['other'] = 0\n",
    "\n",
    "#keep only the languages that are on main_languages\n",
    "train.original_language = train.original_language.apply(lambda x: x if x in main_languages else 'other')\n",
    "test.original_language = test.original_language.apply(lambda x: x if x in main_languages else 'other')\n",
    "\n",
    "#put languages to numeric according to the indexes of the dictionary\n",
    "train['language'] = train.original_language.apply(lambda x: dict_language[x])\n",
    "test['language'] = test.original_language.apply(lambda x: dict_language[x])"
   ]
  },
  {
   "cell_type": "code",
   "execution_count": 842,
   "metadata": {},
   "outputs": [
    {
     "data": {
      "text/plain": [
       "0                            [Comedy]\n",
       "1    [Comedy, Drama, Family, Romance]\n",
       "2                             [Drama]\n",
       "3                   [Thriller, Drama]\n",
       "4                  [Action, Thriller]\n",
       "Name: genres, dtype: object"
      ]
     },
     "execution_count": 842,
     "metadata": {},
     "output_type": "execute_result"
    }
   ],
   "source": [
    "import ast\n",
    "\n",
    "# Apply the same preprocessing on the string values\n",
    "train.genres = train.genres.apply(lambda x: list(map(lambda d: list(d.values())[1], ast.literal_eval(x)) if isinstance(x, str) else []))\n",
    "test.genres = test.genres.apply(lambda x: list(map(lambda d: list(d.values())[1], ast.literal_eval(x)) if isinstance(x, str) else []))\n",
    "\n",
    "train.genres.head()\n",
    "\n",
    "\n",
    "#ast.literal_eval is used to find tree type string , map takes in two variable ast.literal_eval(x) is the string on which\n",
    "\n",
    "# lambda d: list(d.values())[1] is performed , list is used to display the value of this output, isinstance matches if the variable\n",
    "\n",
    "# x is string or not "
   ]
  },
  {
   "cell_type": "code",
   "execution_count": 843,
   "metadata": {},
   "outputs": [],
   "source": [
    "from collections import Counter\n",
    "\n",
    "genres = Counter(itertools.chain.from_iterable(pd.concat((train.genres, test.genres), axis=0).values))"
   ]
  },
  {
   "cell_type": "code",
   "execution_count": 844,
   "metadata": {},
   "outputs": [],
   "source": [
    "for g in genres:\n",
    "    train[g] = train.genres.apply(lambda x: 1 if g in x else 0)\n",
    "    test[g] = test.genres.apply(lambda x: 1 if g in x else 0)"
   ]
  },
  {
   "cell_type": "code",
   "execution_count": 845,
   "metadata": {},
   "outputs": [],
   "source": [
    "train['spoken_languages'] = train['spoken_languages'].apply(lambda x: list(map(lambda d: list(d.values())[0], ast.literal_eval(x)) if isinstance(x, str) else []))\n",
    "test['spoken_languages'] = test['spoken_languages'].apply(lambda x: list(map(lambda d: list(d.values())[0], ast.literal_eval(x)) if isinstance(x, str) else []))\n",
    "\n"
   ]
  },
  {
   "cell_type": "code",
   "execution_count": 846,
   "metadata": {},
   "outputs": [],
   "source": [
    "#adding a parameter of length of the variable for the model\n",
    "\n",
    "train['nb_spoken_languages'] = train.spoken_languages.apply(len)\n",
    "test['nb_spoken_languages'] = test.spoken_languages.apply(len)\n",
    "\n",
    "\n",
    "#this results true if english spoken and false if not \n",
    "\n",
    "train['english_spoken'] = train.spoken_languages.apply(lambda x: 'en' in x)\n",
    "test['english_spoken'] = test.spoken_languages.apply(lambda x: 'en' in x)\n",
    "\n",
    "\n"
   ]
  },
  {
   "cell_type": "code",
   "execution_count": 847,
   "metadata": {},
   "outputs": [],
   "source": [
    "\n",
    "\n",
    "\n",
    "train.production_companies = train.production_companies.apply(lambda x: list(map(lambda d: list(d.values())[0], ast.literal_eval(x)) if isinstance(x, str) else []))\n",
    "test.production_companies = test.production_companies.apply(lambda x: list(map(lambda d: list(d.values())[0], ast.literal_eval(x)) if isinstance(x, str) else []))\n",
    "\n",
    "production_companies = Counter(itertools.chain.from_iterable(pd.concat((train.production_companies, test.production_companies), axis=0).values))\n",
    "\n",
    "\n",
    "\n",
    "\n",
    "train['nb_production_companies'] = train.production_companies.apply(len)\n",
    "test['nb_production_companies'] = test.production_companies.apply(len)\n",
    "\n"
   ]
  },
  {
   "cell_type": "code",
   "execution_count": 848,
   "metadata": {},
   "outputs": [],
   "source": [
    "# Factorizing all the little production companies into an 'other' variable\n",
    "big_companies = [p for p in production_companies if production_companies[p] > 30]\n",
    "train.production_companies = train.production_companies.apply(lambda l: list(map(lambda x: x if x in big_companies else 'other', l)))\n",
    "\n",
    "for p in big_companies + ['other']:\n",
    "    train[p] = train.production_companies.apply(lambda x: 1 if p in x else 0)\n",
    "    test[p] = test.production_companies.apply(lambda x: 1 if p in x else 0)"
   ]
  },
  {
   "cell_type": "code",
   "execution_count": 849,
   "metadata": {},
   "outputs": [
    {
     "name": "stdout",
     "output_type": "stream",
     "text": [
      "Number of different production companies: 98\n"
     ]
    }
   ],
   "source": [
    "train.production_countries = train.production_countries.apply(lambda x: list(map(lambda d: list(d.values())[0], ast.literal_eval(x)) if isinstance(x, str) else []))\n",
    "test.production_countries = test.production_countries.apply(lambda x: list(map(lambda d: list(d.values())[0], ast.literal_eval(x)) if isinstance(x, str) else []))\n",
    "\n",
    "\n",
    "production_countries = Counter(itertools.chain.from_iterable(pd.concat((train.production_countries, test.production_countries), axis=0).values))\n",
    "print(\"Number of different production companies:\", len(production_countries))"
   ]
  },
  {
   "cell_type": "code",
   "execution_count": 850,
   "metadata": {},
   "outputs": [],
   "source": [
    "# Factorizing all the little production companies into an 'other' variable\n",
    "big_countries = [p for p in production_countries if production_countries[p] > 30]\n",
    "train.production_countries = train.production_countries.apply(lambda l: list(map(lambda x: x if x in big_countries else 'other', l)))\n",
    "\n",
    "for p in big_countries + ['other']:\n",
    "    train[p] = train.production_countries.apply(lambda x: 1 if p in x else 0)\n",
    "    test[p] = test.production_countries.apply(lambda x: 1 if p in x else 0)"
   ]
  },
  {
   "cell_type": "code",
   "execution_count": 851,
   "metadata": {},
   "outputs": [],
   "source": [
    "train.Keywords = train.Keywords.apply(lambda x: list(map(lambda d: list(d.values())[1], ast.literal_eval(x)) if isinstance(x, str) else []))\n",
    "test.Keywords = test.Keywords.apply(lambda x: list(map(lambda d: list(d.values())[1], ast.literal_eval(x)) if isinstance(x, str) else []))\n",
    "\n",
    "train['nb_keywords'] = train.Keywords.apply(len)\n",
    "test['nb_keywords'] = test.Keywords.apply(len)"
   ]
  },
  {
   "cell_type": "code",
   "execution_count": 852,
   "metadata": {},
   "outputs": [],
   "source": [
    "train.drop(['genres','original_language','production_companies','production_countries','spoken_languages','Keywords'],axis=1,inplace=True)\n",
    "\n",
    "test.drop(['genres','original_language','production_companies','production_countries','spoken_languages','Keywords'],axis=1,inplace=True)"
   ]
  },
  {
   "cell_type": "code",
   "execution_count": 853,
   "metadata": {},
   "outputs": [],
   "source": [
    "train.loc[train['budget']==0,'budget']=train.loc[train['budget']==0,'budget'].map(train['budget'].median)"
   ]
  },
  {
   "cell_type": "code",
   "execution_count": 854,
   "metadata": {},
   "outputs": [],
   "source": [
    "\n",
    "train.runtime.fillna(90.0,inplace=True)\n",
    "test.runtime.fillna(90.0,inplace=True)"
   ]
  },
  {
   "cell_type": "code",
   "execution_count": 855,
   "metadata": {},
   "outputs": [],
   "source": [
    "train['release_date'] = pd.to_datetime(train['release_date'], format='%m/%d/%y')\n",
    "train['Year'] = train.release_date.dt.year\n",
    "train['Month'] = train.release_date.dt.month\n",
    "train['Day'] = train.release_date.dt.day\n",
    "train['dayofweek'] = train.release_date.dt.dayofweek \n",
    "train['quarter'] = train.release_date.dt.quarter   \n",
    "#Test\n",
    "test['release_date'] = pd.to_datetime(test['release_date'], format='%m/%d/%y')\n",
    "test['Year'] = test.release_date.dt.year\n",
    "test['Month'] = test.release_date.dt.month\n",
    "test['Day'] = test.release_date.dt.day\n",
    "test['dayofweek'] = test.release_date.dt.dayofweek \n",
    "test['quarter'] = test.release_date.dt.quarter  \n",
    "\n",
    "\n",
    "dummies = pd.get_dummies(train['Month'] ,drop_first=True).rename(columns=lambda x: 'Month' + str(x))\n",
    "dummies2 = pd.get_dummies(test['Month'] ,drop_first=True).rename(columns=lambda x: 'Month' + str(int(x)))\n",
    "train = pd.concat([train, dummies], axis=1)\n",
    "test = pd.concat([test, dummies2], axis = 1)\n",
    "\n",
    "ddow = pd.get_dummies(train['dayofweek'] ,drop_first=True).rename(columns=lambda x: 'dayofweek' + str(x))\n",
    "ddow2 = pd.get_dummies(test['dayofweek'] ,drop_first=True).rename(columns=lambda x: 'dayofweek' + str(int(x)))\n",
    "train = pd.concat([train, ddow], axis=1)\n",
    "test = pd.concat([test, ddow2], axis = 1)\n",
    "\n",
    "#Train\n",
    "train.loc[train['Year'] > 2018, 'Year'] = train.loc[train['Year'] > 2018, 'Year'].apply(lambda x: x - 100)\n",
    "#Test\n",
    "test.loc[test['Year'] > 2018, 'Year'] = test.loc[test['Year'] > 2018, 'Year'].apply(lambda x: x - 100)\n",
    "\n",
    "\n"
   ]
  },
  {
   "cell_type": "code",
   "execution_count": 856,
   "metadata": {},
   "outputs": [],
   "source": [
    "def lazzy_feat(df):\n",
    "    \n",
    "    df['Ratiobudgetbypopularity'] = df['budget']/df['popularity']\n",
    "   \n",
    "    \n",
    "    \n",
    "    df['budget_runtime_ratio'] = df['budget']/df['runtime'] \n",
    "    \n",
    "    \n",
    "    return df\n",
    "train = lazzy_feat(train)\n",
    "test = lazzy_feat(test)"
   ]
  },
  {
   "cell_type": "code",
   "execution_count": 857,
   "metadata": {},
   "outputs": [],
   "source": [
    "train.drop('release_date',axis=1,inplace=True)\n",
    "test.drop('release_date',axis=1,inplace=True)"
   ]
  },
  {
   "cell_type": "code",
   "execution_count": 858,
   "metadata": {},
   "outputs": [
    {
     "data": {
      "text/plain": [
       "array([  86,  104,  185,  215,  238,  272,  344,  377,  400,  406,  472,\n",
       "        501,  585,  592,  636,  657,  681,  689,  697,  713,  727,  729,\n",
       "        748,  822,  830,  834,  888,  948,  960, 1044, 1130, 1217, 1243,\n",
       "       1251, 1384, 1429, 1464, 1492, 1500, 1516, 1559, 1569, 1586, 1612,\n",
       "       1613, 1655, 1666, 1675, 1725, 1732, 1739, 1815, 1837, 1853, 1862,\n",
       "       1884, 1886, 1931, 1936, 1943, 1954, 1995, 2003, 2034, 2038, 2065,\n",
       "       2123, 2131, 2155, 2211, 2223, 2264, 2336, 2349, 2356, 2388, 2391,\n",
       "       2397, 2408, 2411, 2419, 2453, 2464, 2466, 2476, 2506, 2525, 2595,\n",
       "       2617, 2717, 2766, 2841, 2906, 2940, 2970], dtype=int64)"
      ]
     },
     "execution_count": 858,
     "metadata": {},
     "output_type": "execute_result"
    }
   ],
   "source": [
    "from sklearn.linear_model import Ridge\n",
    "import xgboost as xgb\n",
    "\n",
    "rr= Ridge(alpha=10)\n",
    "\n",
    "X=train.drop('revenue',axis=1)\n",
    "y= train['revenue']\n",
    "\n",
    "xgbr = xgb.XGBRegressor(max_depth=7, n_estimators=400)\n",
    "xgbr.fit(X, y)\n",
    "\n",
    "#rr.fit(X,y)\n",
    "\n",
    "#y_pred = rr.predict(X)\n",
    "\n",
    "y_pred = xgbr.predict(X)\n",
    "\n",
    "resid = y - y_pred\n",
    "mean_resid = resid.mean()\n",
    "std_resid = resid.std()\n",
    "z = (resid - mean_resid) / std_resid\n",
    "z = np.array(z)\n",
    "outliers1 = np.where(abs(z) > abs(z).std() * 3.5)[0]\n",
    "outliers1\n"
   ]
  },
  {
   "cell_type": "code",
   "execution_count": 859,
   "metadata": {},
   "outputs": [],
   "source": [
    "train = train.drop([ 86,  104,  185,  215,  238,  272,  344,  377,  400,  406,  472,\n",
    "        501,  585,  592,  636,  657,  681,  689,  697,  713,  727,  729,\n",
    "        748,  822,  830,  834,  888,  948,  960, 1044, 1130, 1217, 1243,\n",
    "       1251, 1384, 1429, 1464, 1492, 1500, 1516, 1559, 1569, 1586, 1612,\n",
    "       1613, 1655, 1666, 1675, 1725, 1732, 1739, 1815, 1837, 1853, 1862,\n",
    "       1884, 1886, 1931, 1936, 1943, 1954, 1995, 2003, 2034, 2038, 2065,\n",
    "       2123, 2131, 2155, 2211, 2223, 2264, 2336, 2349, 2356, 2388, 2391,\n",
    "       2397, 2408, 2411, 2419, 2453, 2464, 2466, 2476, 2506, 2525, 2595,\n",
    "       2617, 2717, 2766, 2841, 2906, 2940, 2970])\n"
   ]
  },
  {
   "cell_type": "code",
   "execution_count": 860,
   "metadata": {},
   "outputs": [],
   "source": [
    "y = train[\"revenue\"]"
   ]
  },
  {
   "cell_type": "code",
   "execution_count": 861,
   "metadata": {},
   "outputs": [],
   "source": [
    "test.fillna(0,inplace=True)"
   ]
  },
  {
   "cell_type": "code",
   "execution_count": null,
   "metadata": {},
   "outputs": [],
   "source": []
  },
  {
   "cell_type": "code",
   "execution_count": 862,
   "metadata": {},
   "outputs": [],
   "source": [
    "from sklearn.ensemble import GradientBoostingRegressor\n",
    "from sklearn.linear_model import Lasso\n",
    "import xgboost as xgb\n",
    "from sklearn.model_selection import cross_val_score\n",
    "X=train.drop('revenue',axis=1)"
   ]
  },
  {
   "cell_type": "code",
   "execution_count": 863,
   "metadata": {},
   "outputs": [],
   "source": [
    "X=np.array(X)\n"
   ]
  },
  {
   "cell_type": "code",
   "execution_count": 864,
   "metadata": {},
   "outputs": [],
   "source": [
    "from sklearn.preprocessing import StandardScaler\n",
    "scaler = StandardScaler()\n",
    "X=scaler.fit_transform(X)\n",
    "\n",
    "from sklearn.decomposition import PCA\n",
    "\n",
    "pca=PCA(n_components=3)\n",
    "X=pca.fit_transform(X)\n"
   ]
  },
  {
   "cell_type": "code",
   "execution_count": 865,
   "metadata": {},
   "outputs": [
    {
     "data": {
      "text/plain": [
       "88205770.18395457"
      ]
     },
     "execution_count": 865,
     "metadata": {},
     "output_type": "execute_result"
    }
   ],
   "source": [
    "xgbr = xgb.XGBRegressor(max_depth=3, n_estimators=100)\n",
    "xgbr.fit(X, y)\n",
    "np.sqrt(-cross_val_score(xgbr, X, y, cv=10, scoring=\"neg_mean_squared_error\")).mean()"
   ]
  },
  {
   "cell_type": "code",
   "execution_count": 869,
   "metadata": {},
   "outputs": [
    {
     "data": {
      "text/plain": [
       "97550212.06212947"
      ]
     },
     "execution_count": 869,
     "metadata": {},
     "output_type": "execute_result"
    }
   ],
   "source": [
    "rr = Ridge(alpha=7)\n",
    "rr.fit(X, y)\n",
    "np.sqrt(-cross_val_score(rr, X, y, cv=5, scoring=\"neg_mean_squared_error\")).mean()"
   ]
  },
  {
   "cell_type": "code",
   "execution_count": 817,
   "metadata": {},
   "outputs": [
    {
     "data": {
      "text/plain": [
       "94780779.31134585"
      ]
     },
     "execution_count": 817,
     "metadata": {},
     "output_type": "execute_result"
    }
   ],
   "source": [
    "lsr = Lasso(alpha=0.01)\n",
    "lsr.fit(X, y)\n",
    "np.sqrt(-cross_val_score(lsr, X, y, cv=7, scoring=\"neg_mean_squared_error\")).mean()"
   ]
  },
  {
   "cell_type": "code",
   "execution_count": 870,
   "metadata": {},
   "outputs": [],
   "source": [
    "train_predict =xgbr.predict(X)"
   ]
  },
  {
   "cell_type": "code",
   "execution_count": 871,
   "metadata": {},
   "outputs": [
    {
     "data": {
      "text/plain": [
       "[<matplotlib.lines.Line2D at 0x1f9080b97f0>]"
      ]
     },
     "execution_count": 871,
     "metadata": {},
     "output_type": "execute_result"
    },
    {
     "data": {
      "image/png": "[encoded data removed]",
      "text/plain": [
       "<Figure size 432x432 with 1 Axes>"
      ]
     },
     "metadata": {
      "needs_background": "light"
     },
     "output_type": "display_data"
    }
   ],
   "source": [
    "import matplotlib.pyplot as plt\n",
    "%matplotlib inline\n",
    "\n",
    "plt.figure(figsize=(6, 6))\n",
    "plt.scatter(y, train_predict)\n",
    "plt.plot(range(10, 15), range(10, 15), color=\"red\")"
   ]
  },
  {
   "cell_type": "code",
   "execution_count": 873,
   "metadata": {},
   "outputs": [],
   "source": [
    "from sklearn.preprocessing import StandardScaler\n",
    "scaler = StandardScaler()\n",
    "test=scaler.fit_transform(test)\n",
    "\n",
    "from sklearn.decomposition import PCA\n",
    "\n",
    "pca=PCA(n_components=3)\n",
    "test=pca.fit_transform(test)"
   ]
  },
  {
   "cell_type": "code",
   "execution_count": 874,
   "metadata": {},
   "outputs": [],
   "source": [
    "test_predict= xgbr.predict(test)"
   ]
  },
  {
   "cell_type": "code",
   "execution_count": 875,
   "metadata": {},
   "outputs": [],
   "source": [
    "ss=pd.read_csv('test.csv')\n",
    "ids = ss['id']\n",
    "\n",
    "submission_file = open(\"TMDB.csv\", \"w\")\n",
    "\n",
    "import csv as csv\n",
    "\n",
    "open_file_object = csv.writer(submission_file)\n",
    "\n",
    "# Write the header of the csv\n",
    "open_file_object.writerow([\"Id\",\"revenue\"])\n",
    "\n",
    "# Write the rows of the csv\n",
    "open_file_object.writerows(zip(ids, test_predict))\n",
    "\n",
    "# Close the file\n",
    "submission_file.close()\n"
   ]
  },
  {
   "cell_type": "code",
   "execution_count": null,
   "metadata": {},
   "outputs": [],
   "source": []
  },
  {
   "cell_type": "code",
   "execution_count": null,
   "metadata": {},
   "outputs": [],
   "source": []
  }
 ],
 "metadata": {
  "kernelspec": {
   "display_name": "Python 3",
   "language": "python",
   "name": "python3"
  },
  "language_info": {
   "codemirror_mode": {
    "name": "ipython",
    "version": 3
   },
   "file_extension": ".py",
   "mimetype": "text/x-python",
   "name": "python",
   "nbconvert_exporter": "python",
   "pygments_lexer": "ipython3",
   "version": "3.7.1"
  }
 },
 "nbformat": 4,
 "nbformat_minor": 2
}
