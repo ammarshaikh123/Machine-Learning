{
 "cells": [
  {
   "cell_type": "code",
   "execution_count": 8,
   "metadata": {},
   "outputs": [
    {
     "name": "stdout",
     "output_type": "stream",
     "text": [
      "Requirement already satisfied: jupyter in c:\\users\\salee\\anaconda3\\lib\\site-packages (1.0.0)\n",
      "Requirement already satisfied: notebook in c:\\users\\salee\\anaconda3\\lib\\site-packages (5.7.4)\n",
      "Collecting jupyter_contrib_nbextensions\n",
      "  Downloading https://files.pythonhosted.org/packages/33/f0/6e2c00afda860f655fbf0f795f7310bdbf12122846344dfdc803fc7455d5/jupyter_contrib_nbextensions-0.5.1-py2.py3-none-any.whl (20.9MB)\n",
      "Requirement already satisfied: nbconvert in c:\\users\\salee\\anaconda3\\lib\\site-packages (from jupyter) (5.4.0)\n",
      "Requirement already satisfied: qtconsole in c:\\users\\salee\\anaconda3\\lib\\site-packages (from jupyter) (4.4.3)\n",
      "Requirement already satisfied: ipywidgets in c:\\users\\salee\\anaconda3\\lib\\site-packages (from jupyter) (7.4.2)\n",
      "Requirement already satisfied: jupyter-console in c:\\users\\salee\\anaconda3\\lib\\site-packages (from jupyter) (6.0.0)\n",
      "Requirement already satisfied: ipykernel in c:\\users\\salee\\anaconda3\\lib\\site-packages (from jupyter) (5.1.0)\n",
      "Requirement already satisfied: terminado>=0.8.1 in c:\\users\\salee\\anaconda3\\lib\\site-packages (from notebook) (0.8.1)\n",
      "Requirement already satisfied: ipython-genutils in c:\\users\\salee\\anaconda3\\lib\\site-packages (from notebook) (0.2.0)\n",
      "Requirement already satisfied: prometheus-client in c:\\users\\salee\\anaconda3\\lib\\site-packages (from notebook) (0.5.0)\n",
      "Requirement already satisfied: traitlets>=4.2.1 in c:\\users\\salee\\anaconda3\\lib\\site-packages (from notebook) (4.3.2)\n",
      "Requirement already satisfied: pyzmq>=17 in c:\\users\\salee\\anaconda3\\lib\\site-packages (from notebook) (17.1.2)\n",
      "Requirement already satisfied: Send2Trash in c:\\users\\salee\\anaconda3\\lib\\site-packages (from notebook) (1.5.0)\n",
      "Requirement already satisfied: nbformat in c:\\users\\salee\\anaconda3\\lib\\site-packages (from notebook) (4.4.0)\n",
      "Requirement already satisfied: jinja2 in c:\\users\\salee\\anaconda3\\lib\\site-packages (from notebook) (2.10)\n",
      "Requirement already satisfied: jupyter-client>=5.2.0 in c:\\users\\salee\\anaconda3\\lib\\site-packages (from notebook) (5.2.4)\n",
      "Requirement already satisfied: tornado>=4 in c:\\users\\salee\\anaconda3\\lib\\site-packages (from notebook) (5.1.1)\n",
      "Requirement already satisfied: jupyter-core>=4.4.0 in c:\\users\\salee\\anaconda3\\lib\\site-packages (from notebook) (4.4.0)\n",
      "Collecting jupyter-contrib-core>=0.3.3 (from jupyter_contrib_nbextensions)\n",
      "  Downloading https://files.pythonhosted.org/packages/e6/8f/04a752a8b66a66e7092c035e5d87d2502ac7ec07f9fb6059059b6c0dc272/jupyter_contrib_core-0.3.3-py2.py3-none-any.whl\n",
      "Collecting jupyter-nbextensions-configurator>=0.4.0 (from jupyter_contrib_nbextensions)\n",
      "  Downloading https://files.pythonhosted.org/packages/51/a3/d72d5f2dc10c5ccf5a6f4c79f636bf071a5ce462dedd07af2f70384db6cb/jupyter_nbextensions_configurator-0.4.1.tar.gz (479kB)\n",
      "Requirement already satisfied: pyyaml in c:\\users\\salee\\anaconda3\\lib\\site-packages (from jupyter_contrib_nbextensions) (3.13)\n",
      "Collecting jupyter-latex-envs>=1.3.8 (from jupyter_contrib_nbextensions)\n",
      "  Downloading https://files.pythonhosted.org/packages/0e/15/55805de080d5542f76920364635e96e64d3b37f678befdfe3b16aa154205/jupyter_latex_envs-1.4.6.tar.gz (861kB)\n",
      "Collecting jupyter-highlight-selected-word>=0.1.1 (from jupyter_contrib_nbextensions)\n",
      "  Downloading https://files.pythonhosted.org/packages/50/d7/19ab7cfd60bf268d2abbacc52d4295a40f52d74dfc0d938e4761ee5e598b/jupyter_highlight_selected_word-0.2.0-py2.py3-none-any.whl\n",
      "Requirement already satisfied: lxml in c:\\users\\salee\\anaconda3\\lib\\site-packages (from jupyter_contrib_nbextensions) (4.2.5)\n",
      "Requirement already satisfied: mistune>=0.8.1 in c:\\users\\salee\\anaconda3\\lib\\site-packages (from nbconvert->jupyter) (0.8.4)\n",
      "Requirement already satisfied: pygments in c:\\users\\salee\\anaconda3\\lib\\site-packages (from nbconvert->jupyter) (2.3.1)\n",
      "Requirement already satisfied: entrypoints>=0.2.2 in c:\\users\\salee\\anaconda3\\lib\\site-packages (from nbconvert->jupyter) (0.2.3)\n",
      "Requirement already satisfied: bleach in c:\\users\\salee\\anaconda3\\lib\\site-packages (from nbconvert->jupyter) (3.0.2)\n",
      "Requirement already satisfied: pandocfilters>=1.4.1 in c:\\users\\salee\\anaconda3\\lib\\site-packages (from nbconvert->jupyter) (1.4.2)\n",
      "Requirement already satisfied: testpath in c:\\users\\salee\\anaconda3\\lib\\site-packages (from nbconvert->jupyter) (0.4.2)\n",
      "Requirement already satisfied: defusedxml in c:\\users\\salee\\anaconda3\\lib\\site-packages (from nbconvert->jupyter) (0.5.0)\n",
      "Requirement already satisfied: ipython>=4.0.0; python_version >= \"3.3\" in c:\\users\\salee\\anaconda3\\lib\\site-packages (from ipywidgets->jupyter) (7.2.0)\n",
      "Requirement already satisfied: widgetsnbextension~=3.4.0 in c:\\users\\salee\\anaconda3\\lib\\site-packages (from ipywidgets->jupyter) (3.4.2)\n",
      "Requirement already satisfied: prompt_toolkit<2.1.0,>=2.0.0 in c:\\users\\salee\\anaconda3\\lib\\site-packages (from jupyter-console->jupyter) (2.0.7)\n",
      "Requirement already satisfied: decorator in c:\\users\\salee\\anaconda3\\lib\\site-packages (from traitlets>=4.2.1->notebook) (4.3.0)\n",
      "Requirement already satisfied: six in c:\\users\\salee\\anaconda3\\lib\\site-packages (from traitlets>=4.2.1->notebook) (1.12.0)\n",
      "Requirement already satisfied: jsonschema!=2.5.0,>=2.4 in c:\\users\\salee\\anaconda3\\lib\\site-packages (from nbformat->notebook) (2.6.0)\n",
      "Requirement already satisfied: MarkupSafe>=0.23 in c:\\users\\salee\\anaconda3\\lib\\site-packages (from jinja2->notebook) (1.1.0)\n",
      "Requirement already satisfied: python-dateutil>=2.1 in c:\\users\\salee\\anaconda3\\lib\\site-packages (from jupyter-client>=5.2.0->notebook) (2.7.5)\n",
      "Requirement already satisfied: setuptools in c:\\users\\salee\\anaconda3\\lib\\site-packages (from jupyter-contrib-core>=0.3.3->jupyter_contrib_nbextensions) (41.0.1)\n",
      "Requirement already satisfied: webencodings in c:\\users\\salee\\anaconda3\\lib\\site-packages (from bleach->nbconvert->jupyter) (0.5.1)\n",
      "Requirement already satisfied: pickleshare in c:\\users\\salee\\anaconda3\\lib\\site-packages (from ipython>=4.0.0; python_version >= \"3.3\"->ipywidgets->jupyter) (0.7.5)\n",
      "Requirement already satisfied: jedi>=0.10 in c:\\users\\salee\\anaconda3\\lib\\site-packages (from ipython>=4.0.0; python_version >= \"3.3\"->ipywidgets->jupyter) (0.13.2)\n",
      "Requirement already satisfied: backcall in c:\\users\\salee\\anaconda3\\lib\\site-packages (from ipython>=4.0.0; python_version >= \"3.3\"->ipywidgets->jupyter) (0.1.0)\n",
      "Requirement already satisfied: colorama; sys_platform == \"win32\" in c:\\users\\salee\\anaconda3\\lib\\site-packages (from ipython>=4.0.0; python_version >= \"3.3\"->ipywidgets->jupyter) (0.4.1)\n",
      "Requirement already satisfied: wcwidth in c:\\users\\salee\\anaconda3\\lib\\site-packages (from prompt_toolkit<2.1.0,>=2.0.0->jupyter-console->jupyter) (0.1.7)\n",
      "Requirement already satisfied: parso>=0.3.0 in c:\\users\\salee\\anaconda3\\lib\\site-packages (from jedi>=0.10->ipython>=4.0.0; python_version >= \"3.3\"->ipywidgets->jupyter) (0.3.1)\n",
      "Building wheels for collected packages: jupyter-nbextensions-configurator, jupyter-latex-envs\n",
      "  Running setup.py bdist_wheel for jupyter-nbextensions-configurator: started\n",
      "  Running setup.py bdist_wheel for jupyter-nbextensions-configurator: finished with status 'done'\n",
      "  Stored in directory: C:\\Users\\salee\\AppData\\Local\\pip\\Cache\\wheels\\15\\df\\fe\\2a74fe34709e7fdc5ae153a768675d9fda93cc7d5133ed1fb0\n",
      "  Running setup.py bdist_wheel for jupyter-latex-envs: started\n",
      "  Running setup.py bdist_wheel for jupyter-latex-envs: finished with status 'done'\n",
      "  Stored in directory: C:\\Users\\salee\\AppData\\Local\\pip\\Cache\\wheels\\0d\\71\\2a\\164491997299b9f2479a251e254323fe35d946779e18f27956\n",
      "Successfully built jupyter-nbextensions-configurator jupyter-latex-envs\n",
      "Installing collected packages: jupyter-contrib-core, jupyter-nbextensions-configurator, jupyter-latex-envs, jupyter-highlight-selected-word, jupyter-contrib-nbextensions\n",
      "Successfully installed jupyter-contrib-core-0.3.3 jupyter-contrib-nbextensions-0.5.1 jupyter-highlight-selected-word-0.2.0 jupyter-latex-envs-1.4.6 jupyter-nbextensions-configurator-0.4.1\n"
     ]
    }
   ],
   "source": [
    "! pip install jupyter notebook jupyter_contrib_nbextensions"
   ]
  },
  {
   "cell_type": "code",
   "execution_count": 12,
   "metadata": {},
   "outputs": [
    {
     "name": "stdout",
     "output_type": "stream",
     "text": [
      "Collecting torch==1.0.1 from https://download.pytorch.org/whl/cpu/torch-1.0.1-cp37-cp37m-win_amd64.whl\n",
      "  Downloading https://download.pytorch.org/whl/cpu/torch-1.0.1-cp37-cp37m-win_amd64.whl (73.6MB)\n",
      "Installing collected packages: torch\n",
      "Successfully installed torch-1.0.1\n",
      "Collecting torchvision\n",
      "  Using cached https://files.pythonhosted.org/packages/fb/01/03fd7e503c16b3dc262483e5555ad40974ab5da8b9879e164b56c1f4ef6f/torchvision-0.2.2.post3-py2.py3-none-any.whl\n",
      "Requirement already satisfied: numpy in c:\\users\\salee\\anaconda3\\lib\\site-packages (from torchvision) (1.15.4)\n",
      "Requirement already satisfied: six in c:\\users\\salee\\anaconda3\\lib\\site-packages (from torchvision) (1.12.0)\n",
      "Requirement already satisfied: pillow>=4.1.1 in c:\\users\\salee\\anaconda3\\lib\\site-packages (from torchvision) (5.3.0)\n",
      "Requirement already satisfied: torch in c:\\users\\salee\\anaconda3\\lib\\site-packages (from torchvision) (1.0.1)\n",
      "Installing collected packages: torchvision\n",
      "Successfully installed torchvision-0.2.2.post3\n"
     ]
    }
   ],
   "source": [
    "!pip install https://download.pytorch.org/whl/cpu/torch-1.0.1-cp37-cp37m-win_amd64.whl\n",
    "!pip install torchvision"
   ]
  },
  {
   "cell_type": "code",
   "execution_count": 5,
   "metadata": {},
   "outputs": [
    {
     "name": "stdout",
     "output_type": "stream",
     "text": [
      "The autoreload extension is already loaded. To reload it, use:\n",
      "  %reload_ext autoreload\n"
     ]
    }
   ],
   "source": [
    "%load_ext autoreload\n",
    "%autoreload 2\n",
    "\n",
    "%matplotlib inline\n",
    "\n",
    "from fastai.imports import *\n",
    "from fastai.tabular import *\n",
    "\n",
    "from pandas_summary import DataFrameSummary\n",
    "from sklearn.ensemble import RandomForestRegressor, RandomForestClassifier\n",
    "from IPython.display import display\n",
    "\n",
    "from sklearn import metrics"
   ]
  },
  {
   "cell_type": "code",
   "execution_count": 4,
   "metadata": {},
   "outputs": [
    {
     "name": "stdout",
     "output_type": "stream",
     "text": [
      "Collecting pandas-summary\n",
      "  Using cached https://files.pythonhosted.org/packages/6b/00/f7b4d7fd901db9a79d63e88000bd1e12efba4f5fb52608f906d7fea2b18f/pandas_summary-0.0.6-py2.py3-none-any.whl\n",
      "Requirement already satisfied: pandas in c:\\users\\salee\\anaconda3\\lib\\site-packages (from pandas-summary) (0.23.4)\n",
      "Requirement already satisfied: numpy in c:\\users\\salee\\anaconda3\\lib\\site-packages (from pandas-summary) (1.15.4)\n",
      "Requirement already satisfied: python-dateutil>=2.5.0 in c:\\users\\salee\\anaconda3\\lib\\site-packages (from pandas->pandas-summary) (2.7.5)\n",
      "Requirement already satisfied: pytz>=2011k in c:\\users\\salee\\anaconda3\\lib\\site-packages (from pandas->pandas-summary) (2018.7)\n",
      "Requirement already satisfied: six>=1.5 in c:\\users\\salee\\anaconda3\\lib\\site-packages (from python-dateutil>=2.5.0->pandas->pandas-summary) (1.12.0)\n",
      "Installing collected packages: pandas-summary\n",
      "Successfully installed pandas-summary-0.0.6\n"
     ]
    }
   ],
   "source": [
    "!pip install pandas-summary"
   ]
  },
  {
   "cell_type": "code",
   "execution_count": 6,
   "metadata": {},
   "outputs": [],
   "source": [
    "import pandas as pd\n",
    "\n",
    "df_raw = pd.read_csv('Train.csv', low_memory=False, \n",
    "                     parse_dates=[\"saledate\"])"
   ]
  },
  {
   "cell_type": "code",
   "execution_count": null,
   "metadata": {},
   "outputs": [],
   "source": []
  }
 ],
 "metadata": {
  "kernelspec": {
   "display_name": "Python 3",
   "language": "python",
   "name": "python3"
  },
  "language_info": {
   "codemirror_mode": {
    "name": "ipython",
    "version": 3
   },
   "file_extension": ".py",
   "mimetype": "text/x-python",
   "name": "python",
   "nbconvert_exporter": "python",
   "pygments_lexer": "ipython3",
   "version": "3.7.1"
  }
 },
 "nbformat": 4,
 "nbformat_minor": 2
}
